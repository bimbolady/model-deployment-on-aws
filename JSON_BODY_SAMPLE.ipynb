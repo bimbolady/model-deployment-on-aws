{
 "cells": [
  {
   "cell_type": "code",
   "execution_count": 1,
   "metadata": {
    "id": "HLVldySVDzMN"
   },
   "outputs": [
    {
     "name": "stdout",
     "output_type": "stream",
     "text": [
      "{'prediction': [215.02]}\n"
     ]
    }
   ],
   "source": [
    "import requests\n",
    "\n",
    "url = \"http://127.0.0.1:5000/predict\"\n",
    "data = {\n",
    "    \"Product_ID\": \"P00001\",\n",
    "    \"Product_Category\": \"Furniture\",\n",
    "    \"Price (USD)\": 437.086107,\n",
    "    \"Cost (USD)\": 287.364100,\n",
    "    \"Profit_Margin (%)\": 34.254579,\n",
    "    \"Units_Sold\": 232,\n",
    "    \"Advertising_Spend (USD)\": 2833.873076,\n",
    "    \"Competitor_Price (USD)\": 450.486314,\n",
    "}\n",
    "\n",
    "response = requests.post(url, json=data)\n",
    "print(response.json())\n"
   ]
  },
  {
   "cell_type": "markdown",
   "metadata": {
    "id": "7OLrHA2uEQPp"
   },
   "source": [
    "**The above is for python, the below is for POSTMAN curl, they can use anyone**"
   ]
  },
  {
   "cell_type": "code",
   "execution_count": null,
   "metadata": {
    "id": "IdlYu3D9Ea7a"
   },
   "outputs": [],
   "source": [
    "curl -X POST -H \"Content-Type: application/json\" -d '{\n",
    "    \"percentage yield\": 85.0,\n",
    "    \"gravity\": 0.85,\n",
    "    \"vapour pressure\": 2.1,\n",
    "    \"ten percent distillation point\": 120.0,\n",
    "    \"fraction end point\": 350.0,\n",
    "    \"yield_to_gravity\": 100.0,\n",
    "    \"pressure_to_gravity\": 0.15\n",
    "}' http://127.0.0.1:5000/predict\n"
   ]
  }
 ],
 "metadata": {
  "colab": {
   "provenance": []
  },
  "kernelspec": {
   "display_name": "Python 3 (ipykernel)",
   "language": "python",
   "name": "python3"
  },
  "language_info": {
   "codemirror_mode": {
    "name": "ipython",
    "version": 3
   },
   "file_extension": ".py",
   "mimetype": "text/x-python",
   "name": "python",
   "nbconvert_exporter": "python",
   "pygments_lexer": "ipython3",
   "version": "3.11.9"
  }
 },
 "nbformat": 4,
 "nbformat_minor": 4
}
